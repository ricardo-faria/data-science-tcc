{
 "cells": [
  {
   "cell_type": "markdown",
   "metadata": {},
   "source": [
    "### importação de bibliotecas"
   ]
  },
  {
   "cell_type": "code",
   "execution_count": 83,
   "metadata": {},
   "outputs": [],
   "source": [
    "import pandas as pd\n",
    "import numpy as np\n",
    "import glob \n",
    "import matplotlib.pyplot as plt\n",
    "import urllib\n",
    "import zipfile\n",
    "import os\n",
    "from scipy.fft import rfft, rfftfreq"
   ]
  },
  {
   "cell_type": "markdown",
   "metadata": {},
   "source": [
    "### Obtenção dos dados"
   ]
  },
  {
   "cell_type": "code",
   "execution_count": 43,
   "metadata": {},
   "outputs": [
    {
     "data": {
      "text/plain": [
       "('normal.zip', <http.client.HTTPMessage at 0x276b567a690>)"
      ]
     },
     "execution_count": 43,
     "metadata": {},
     "output_type": "execute_result"
    }
   ],
   "source": [
    "# Download dos arquivos\n",
    "# urllib.request.urlretrieve('https://www02.smt.ufrj.br/~offshore/mfs/database/mafaulda/imbalance.zip', 'imbalance.zip')\n",
    "# urllib.request.urlretrieve('https://www02.smt.ufrj.br/~offshore/mfs/database/mafaulda/normal.zip', 'normal.zip')\n",
    "\n",
    "# # extração dos arquivos\n",
    "# with zipfile.ZipFile('imbalance.zip', 'r') as zip_ref:\n",
    "#     zip_ref.extractall('data')\n",
    "# with zipfile.ZipFile('normal.zip', 'r') as zip_ref:\n",
    "#     zip_ref.extractall('data')\n",
    "\n",
    "# # excluir arquivos .zip\n",
    "# os.remove('normal.zip')\n",
    "# os.remove('imbalance.zip')"
   ]
  },
  {
   "cell_type": "markdown",
   "metadata": {},
   "source": [
    "### Verificação de dados inválidos"
   ]
  },
  {
   "cell_type": "code",
   "execution_count": 2,
   "metadata": {},
   "outputs": [],
   "source": [
    "def dataReader(path_names):\n",
    "    data_n = pd.DataFrame()\n",
    "    for i in path_names:\n",
    "        low_data = pd.read_csv(i,header=None)\n",
    "        data_n = pd.concat([data_n,low_data],ignore_index=True)\n",
    "    return data_n"
   ]
  },
  {
   "cell_type": "code",
   "execution_count": 3,
   "metadata": {},
   "outputs": [],
   "source": [
    "def checkNullValues(path_names):\n",
    "    for file in path_names:\n",
    "        data = pd.read_csv(file, header=None)\n",
    "        nullValues = data.isnull().sum()\n",
    "        if any(nullValues > 0):\n",
    "            print('CSV file {} has null values'.format(file))"
   ]
  },
  {
   "cell_type": "code",
   "execution_count": 4,
   "metadata": {},
   "outputs": [],
   "source": [
    "normal_file_names = glob.glob('./data/normal/*.csv')\n",
    "imbalance6g_file_names = glob.glob('./data/imbalance/6g/*.csv')\n",
    "imbalance10g_file_names = glob.glob('./data/imbalance/10g/*.csv')\n",
    "imbalance15g_file_names = glob.glob('./data/imbalance/15g/*.csv')\n",
    "imbalance20g_file_names = glob.glob('./data/imbalance/20g/*.csv')\n",
    "imbalance25g_file_names = glob.glob('./data/imbalance/25g/*.csv')\n",
    "imbalance30g_file_names = glob.glob('./data/imbalance/30g/*.csv')\n",
    "imbalance35g_file_names = glob.glob('./data/imbalance/35g/*.csv')\n",
    "\n",
    "checkNullValues(normal_file_names)\n",
    "checkNullValues(imbalance6g_file_names)\n",
    "checkNullValues(imbalance10g_file_names)\n",
    "checkNullValues(imbalance15g_file_names)\n",
    "checkNullValues(imbalance20g_file_names)\n",
    "checkNullValues(imbalance25g_file_names)\n",
    "checkNullValues(imbalance30g_file_names)\n",
    "checkNullValues(imbalance35g_file_names)"
   ]
  },
  {
   "cell_type": "code",
   "execution_count": 5,
   "metadata": {},
   "outputs": [
    {
     "name": "stdout",
     "output_type": "stream",
     "text": [
      "<class 'pandas.core.frame.DataFrame'>\n",
      "RangeIndex: 12250000 entries, 0 to 12249999\n",
      "Data columns (total 8 columns):\n",
      " #   Column  Dtype  \n",
      "---  ------  -----  \n",
      " 0   0       float64\n",
      " 1   1       float64\n",
      " 2   2       float64\n",
      " 3   3       float64\n",
      " 4   4       float64\n",
      " 5   5       float64\n",
      " 6   6       float64\n",
      " 7   7       float64\n",
      "dtypes: float64(8)\n",
      "memory usage: 747.7 MB\n"
     ]
    }
   ],
   "source": [
    "data_normal= dataReader( glob.glob('./data/normal/*.csv'))\n",
    "data_normal.info()"
   ]
  },
  {
   "cell_type": "code",
   "execution_count": 10,
   "metadata": {},
   "outputs": [],
   "source": [
    "def plotSignalSample(dataSample):\n",
    "    timeAxes = np.arange(0 ,5, 1/50000)\n",
    "    figure, axis = plt.subplots(8,1, figsize=(12,15),  constrained_layout=True)\n",
    "    axis[0].plot(timeAxes, dataSample[0])\n",
    "    axis[1].plot(timeAxes, dataSample[1])\n",
    "    axis[2].plot(timeAxes, dataSample[2])\n",
    "    axis[3].plot(timeAxes, dataSample[3])\n",
    "    axis[4].plot(timeAxes, dataSample[4])\n",
    "    axis[5].plot(timeAxes, dataSample[5])\n",
    "    axis[6].plot(timeAxes, dataSample[6])\n",
    "    axis[7].plot(timeAxes, dataSample[7])\n",
    "    figure.supxlabel('Seconds')\n",
    "    figure.supylabel('Voltage')"
   ]
  },
  {
   "cell_type": "code",
   "execution_count": null,
   "metadata": {},
   "outputs": [],
   "source": [
    "normalSample = pd.read_csv('./data/normal/12.288.csv', header=None)\n",
    "plotSignalSample(normalSample)\n"
   ]
  },
  {
   "cell_type": "code",
   "execution_count": null,
   "metadata": {},
   "outputs": [],
   "source": [
    "imbalance6gSample = pd.read_csv('./data/imbalance/6g/13.9264.csv', header=None)\n",
    "plotSignalSample(imbalance6gSample)"
   ]
  },
  {
   "cell_type": "markdown",
   "metadata": {},
   "source": [
    "Deste gráfico chegamos a 2 conclusões:\n",
    "- Dados não estão na mesma escala, o que pode enviesar o algoritmo de machine learn.\n",
    "- Alta taxa de amostragem (50kHz), o que tornará o processo de treinamento muito lento."
   ]
  },
  {
   "cell_type": "code",
   "execution_count": 63,
   "metadata": {},
   "outputs": [],
   "source": [
    "def resample(data, sample_target_rate):\n",
    "    data_resampled = pd.DataFrame()\n",
    "    period = 5 # seconds\n",
    "    step = int(len(data)/period / sample_target_rate )\n",
    "    start_index = 0\n",
    "    stop_index = step\n",
    "    for i in range(0, len(data), step):\n",
    "        data_resampled = pd.concat([data_resampled, data[start_index:stop_index].mean().to_frame().T], axis=0, ignore_index=True)\n",
    "        start_index += step\n",
    "        stop_index += step\n",
    "   \n",
    "    return data_resampled\n"
   ]
  },
  {
   "cell_type": "code",
   "execution_count": 71,
   "metadata": {},
   "outputs": [],
   "source": [
    "target_rate = 1000\n",
    "SAMPLE_RATE = 50000 # taxa de amostragem original dos dados\n",
    "normalSampleResampled = resample(normalSample, target_rate)"
   ]
  },
  {
   "cell_type": "code",
   "execution_count": 82,
   "metadata": {},
   "outputs": [
    {
     "data": {
      "text/plain": [
       "Text(0, 0.5, 'Voltage')"
      ]
     },
     "execution_count": 82,
     "metadata": {},
     "output_type": "execute_result"
    },
    {
     "data": {
      "image/png": "[encoded data removed]",
      "text/plain": [
       "<Figure size 1000x600 with 1 Axes>"
      ]
     },
     "metadata": {},
     "output_type": "display_data"
    }
   ],
   "source": [
    "# plot 0,2s dos dados originais e reamostrados para comparação\n",
    "# usado valor 10000 e 100, pois é 1/5 da taxa de amostragem original. pois esta sendo plotado 0,2s (1/5 de segundo)\n",
    "time = 0.2 # s\n",
    "qty_original_samples =  int(SAMPLE_RATE * time)\n",
    "qty_resampled_sample = int(target_rate * time)\n",
    "t1 = np.linspace(0, time, qty_original_samples)\n",
    "t2 = np.linspace(0, time, qty_resampled_sample)\n",
    "plt.figure(figsize=(10, 6))\n",
    "plt.plot(t1,  normalSample[0][0:qty_original_samples], label='Sinal original', color='blue')\n",
    "plt.plot(t2,  normalSampleResampled[0][0:qty_resampled_sample], label='Sinal resample', color='orange')\n",
    "plt.xlabel('Seconds')\n",
    "plt.ylabel('Voltage')"
   ]
  },
  {
   "cell_type": "markdown",
   "metadata": {},
   "source": [
    "podemos observar que há perdas nos dados. Será testado diferentes frequencias de reamostragem para encontrar o melhor  trade-off entre a precisão dos dados e o custo de treinamento."
   ]
  },
  {
   "cell_type": "code",
   "execution_count": 87,
   "metadata": {},
   "outputs": [
    {
     "ename": "IndexError",
     "evalue": "tuple index out of range",
     "output_type": "error",
     "traceback": [
      "\u001b[1;31m---------------------------------------------------------------------------\u001b[0m",
      "\u001b[1;31mIndexError\u001b[0m                                Traceback (most recent call last)",
      "Cell \u001b[1;32mIn[87], line 12\u001b[0m\n\u001b[0;32m      9\u001b[0m     plt\u001b[38;5;241m.\u001b[39mtitle(\u001b[38;5;124m\"\u001b[39m\u001b[38;5;124mAcceleration Spectrum\u001b[39m\u001b[38;5;124m\"\u001b[39m)\n\u001b[0;32m     10\u001b[0m     plt\u001b[38;5;241m.\u001b[39mshow()\n\u001b[1;32m---> 12\u001b[0m \u001b[43mfast_fourier_transform\u001b[49m\u001b[43m(\u001b[49m\u001b[43mnormalSampleResampled\u001b[49m\u001b[43m[\u001b[49m\u001b[38;5;241;43m0\u001b[39;49m\u001b[43m]\u001b[49m\u001b[38;5;241;43m.\u001b[39;49m\u001b[43mvalues\u001b[49m\u001b[43m)\u001b[49m\n",
      "Cell \u001b[1;32mIn[87], line 2\u001b[0m, in \u001b[0;36mfast_fourier_transform\u001b[1;34m(x_acel)\u001b[0m\n\u001b[0;32m      1\u001b[0m \u001b[38;5;28;01mdef\u001b[39;00m \u001b[38;5;21mfast_fourier_transform\u001b[39m(x_acel):\n\u001b[1;32m----> 2\u001b[0m     N \u001b[38;5;241m=\u001b[39m \u001b[43mx_acel\u001b[49m\u001b[43m[\u001b[49m\u001b[38;5;241;43m0\u001b[39;49m\u001b[43m]\u001b[49m\u001b[38;5;241;43m.\u001b[39;49m\u001b[43mshape\u001b[49m\u001b[43m[\u001b[49m\u001b[38;5;241;43m0\u001b[39;49m\u001b[43m]\u001b[49m\n\u001b[0;32m      3\u001b[0m     x_acel \u001b[38;5;241m=\u001b[39m x_acel \u001b[38;5;241m-\u001b[39m np\u001b[38;5;241m.\u001b[39mmean(x_acel)\n\u001b[0;32m      5\u001b[0m     yf \u001b[38;5;241m=\u001b[39m rfft(x_acel)\n",
      "\u001b[1;31mIndexError\u001b[0m: tuple index out of range"
     ]
    }
   ],
   "source": [
    "def fast_fourier_transform(x_acel):\n",
    "    N = x_acel[0].shape[0]\n",
    "    x_acel = x_acel - np.mean(x_acel)\n",
    "\n",
    "    yf = rfft(x_acel)\n",
    "    xf = rfftfreq(N, 1 / target_rate)\n",
    "\n",
    "    plt.plot(xf, np.abs(yf))\n",
    "    plt.title(\"Acceleration Spectrum\")\n",
    "    plt.show()\n",
    "\n",
    "fast_fourier_transform(normalSampleResampled[0].values)"
   ]
  },
  {
   "cell_type": "markdown",
   "metadata": {},
   "source": [
    "modelos que podem ser usados\n",
    "LSTM\n",
    "dnn\n",
    "knn\n",
    "svm\n"
   ]
  },
  {
   "cell_type": "markdown",
   "metadata": {},
   "source": []
  }
 ],
 "metadata": {
  "kernelspec": {
   "display_name": "Python 3",
   "language": "python",
   "name": "python3"
  },
  "language_info": {
   "codemirror_mode": {
    "name": "ipython",
    "version": 3
   },
   "file_extension": ".py",
   "mimetype": "text/x-python",
   "name": "python",
   "nbconvert_exporter": "python",
   "pygments_lexer": "ipython3",
   "version": "3.11.2"
  }
 },
 "nbformat": 4,
 "nbformat_minor": 2
}
