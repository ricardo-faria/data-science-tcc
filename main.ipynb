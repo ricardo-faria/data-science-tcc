{
 "cells": [
  {
   "cell_type": "markdown",
   "metadata": {},
   "source": [
    "### importação de bibliotecas"
   ]
  },
  {
   "cell_type": "code",
   "execution_count": 1,
   "metadata": {},
   "outputs": [],
   "source": [
    "import pandas as pd\n",
    "import numpy as np\n",
    "import glob \n",
    "import matplotlib.pyplot as plt\n",
    "import urllib\n",
    "import zipfile\n",
    "import os\n",
    "from scipy.fft import rfft, rfftfreq"
   ]
  },
  {
   "cell_type": "markdown",
   "metadata": {},
   "source": [
    "### Obtenção dos dados"
   ]
  },
  {
   "cell_type": "code",
   "execution_count": 2,
   "metadata": {},
   "outputs": [],
   "source": [
    "# Download dos arquivos\n",
    "# urllib.request.urlretrieve('https://www02.smt.ufrj.br/~offshore/mfs/database/mafaulda/imbalance.zip', 'imbalance.zip')\n",
    "# urllib.request.urlretrieve('https://www02.smt.ufrj.br/~offshore/mfs/database/mafaulda/normal.zip', 'normal.zip')\n",
    "\n",
    "# # extração dos arquivos\n",
    "# with zipfile.ZipFile('imbalance.zip', 'r') as zip_ref:\n",
    "#     zip_ref.extractall('data')\n",
    "# with zipfile.ZipFile('normal.zip', 'r') as zip_ref:\n",
    "#     zip_ref.extractall('data')\n",
    "\n",
    "# # excluir arquivos .zip\n",
    "# os.remove('normal.zip')\n",
    "# os.remove('imbalance.zip')"
   ]
  },
  {
   "cell_type": "markdown",
   "metadata": {},
   "source": [
    "### Verificação de dados inválidos"
   ]
  },
  {
   "cell_type": "code",
   "execution_count": 2,
   "metadata": {},
   "outputs": [],
   "source": [
    "def dataReader(path_names):\n",
    "    data = []\n",
    "    for i in path_names:\n",
    "        data_file = pd.read_csv(i,header=None)\n",
    "        data.append(data_file)\n",
    "    return np.array(data)"
   ]
  },
  {
   "cell_type": "code",
   "execution_count": 4,
   "metadata": {},
   "outputs": [],
   "source": [
    "def checkNullValues(path_names):\n",
    "    for file in path_names:\n",
    "        data = pd.read_csv(file, header=None)\n",
    "        nullValues = data.isnull().sum()\n",
    "        if any(nullValues > 0):\n",
    "            print('CSV file {} has null values'.format(file))"
   ]
  },
  {
   "cell_type": "code",
   "execution_count": 5,
   "metadata": {},
   "outputs": [],
   "source": [
    "# normal_file_names = glob.glob('./data/normal/*.csv')\n",
    "# imbalance6g_file_names = glob.glob('./data/imbalance/6g/*.csv')\n",
    "# imbalance10g_file_names = glob.glob('./data/imbalance/10g/*.csv')\n",
    "# imbalance15g_file_names = glob.glob('./data/imbalance/15g/*.csv')\n",
    "# imbalance20g_file_names = glob.glob('./data/imbalance/20g/*.csv')\n",
    "# imbalance25g_file_names = glob.glob('./data/imbalance/25g/*.csv')\n",
    "# imbalance30g_file_names = glob.glob('./data/imbalance/30g/*.csv')\n",
    "# imbalance35g_file_names = glob.glob('./data/imbalance/35g/*.csv')\n",
    "\n",
    "# checkNullValues(normal_file_names)\n",
    "# checkNullValues(imbalance6g_file_names)\n",
    "# checkNullValues(imbalance10g_file_names)\n",
    "# checkNullValues(imbalance15g_file_names)\n",
    "# checkNullValues(imbalance20g_file_names)\n",
    "# checkNullValues(imbalance25g_file_names)\n",
    "# checkNullValues(imbalance30g_file_names)\n",
    "# checkNullValues(imbalance35g_file_names)"
   ]
  },
  {
   "cell_type": "code",
   "execution_count": 6,
   "metadata": {},
   "outputs": [],
   "source": [
    "def plotSignalSample(dataSample):\n",
    "    timeAxes = np.arange(0 ,5, 1/50000)\n",
    "    figure, axis = plt.subplots(8,1, figsize=(12,15),  constrained_layout=True)\n",
    "    axis[0].plot(timeAxes, dataSample[0])\n",
    "    axis[1].plot(timeAxes, dataSample[1])\n",
    "    axis[2].plot(timeAxes, dataSample[2])\n",
    "    axis[3].plot(timeAxes, dataSample[3])\n",
    "    axis[4].plot(timeAxes, dataSample[4])\n",
    "    axis[5].plot(timeAxes, dataSample[5])\n",
    "    axis[6].plot(timeAxes, dataSample[6])\n",
    "    axis[7].plot(timeAxes, dataSample[7])\n",
    "    figure.supxlabel('Seconds')\n",
    "    figure.supylabel('Voltage')"
   ]
  },
  {
   "cell_type": "code",
   "execution_count": null,
   "metadata": {},
   "outputs": [],
   "source": [
    "normalSample = pd.read_csv('./data/normal/61.44.csv', header=None)\n",
    "plotSignalSample(normalSample)\n"
   ]
  },
  {
   "cell_type": "code",
   "execution_count": null,
   "metadata": {},
   "outputs": [],
   "source": [
    "imbalance6gSample = pd.read_csv('./data/imbalance/6g/13.9264.csv', header=None)\n",
    "plotSignalSample(imbalance6gSample)"
   ]
  },
  {
   "cell_type": "markdown",
   "metadata": {},
   "source": [
    "Deste gráfico chegamos a 2 conclusões:\n",
    "- Dados não estão na mesma escala, o que pode enviesar o algoritmo de machine learn.\n",
    "- Alta taxa de amostragem (50kHz), o que tornará o processo de treinamento muito lento."
   ]
  },
  {
   "cell_type": "code",
   "execution_count": 40,
   "metadata": {},
   "outputs": [],
   "source": [
    "def resample(data, sample_target_rate):\n",
    "    data_resampled = pd.DataFrame()\n",
    "    period = 5 # seconds\n",
    "    step = int(len(data)/period / sample_target_rate )\n",
    "    start_index = 0\n",
    "    stop_index = step\n",
    "    for i in range(0, len(data), step):\n",
    "        # data_resampled = pd.concat([data_resampled, data[start_index:stop_index].mean().to_frame().T], axis=0, ignore_index=True) ## para funcionar com dataframe\n",
    "        temp_df =  pd.DataFrame([data[start_index:stop_index].mean(axis=0)])\n",
    "        # data_resampled = pd.concat([data_resampled, temp_df], ignore_index=True, axis=0) # para ndarray\n",
    "        data_resampled = pd.concat([data_resampled, temp_df], ignore_index=True) \n",
    "        start_index += step\n",
    "        stop_index += step\n",
    "   \n",
    "    return data_resampled\n"
   ]
  },
  {
   "cell_type": "code",
   "execution_count": 5,
   "metadata": {},
   "outputs": [],
   "source": [
    "target_rate = 500\n",
    "ORIGINAL_SAMPLE_RATE = 50000 # taxa de amostragem original dos dados"
   ]
  },
  {
   "cell_type": "code",
   "execution_count": 41,
   "metadata": {},
   "outputs": [
    {
     "data": {
      "text/plain": [
       "(2500, 8)"
      ]
     },
     "execution_count": 41,
     "metadata": {},
     "output_type": "execute_result"
    }
   ],
   "source": [
    "# normalSample = pd.read_csv('./data/normal/61.44.csv', header=None)\n",
    "a = normalSample.to_numpy() \n",
    "normalSampleResampled = resample(a, target_rate)\n",
    "# imbalance6gSampleResampled = resample(imbalance6gSample, target_rate)\n",
    "normalSampleResampled.shape"
   ]
  },
  {
   "cell_type": "code",
   "execution_count": null,
   "metadata": {},
   "outputs": [],
   "source": [
    "# plot 0,2s dos dados originais e reamostrados para comparação\n",
    "# usado valor 10000 e 100, pois é 1/5 da taxa de amostragem original. pois esta sendo plotado 0,2s (1/5 de segundo)\n",
    "time = 0.2 # s\n",
    "qty_original_samples =  int(ORIGINAL_SAMPLE_RATE * time)\n",
    "qty_resampled_sample = int(target_rate * time)\n",
    "t1 = np.linspace(0, time, qty_original_samples)\n",
    "t2 = np.linspace(0, time, qty_resampled_sample)\n",
    "plt.figure(figsize=(10, 6))\n",
    "plt.plot(t1,  normalSample[0][0:qty_original_samples], label='Sinal original', color='blue')\n",
    "plt.plot(t2,  normalSampleResampled[0][0:qty_resampled_sample], label='Sinal reamostrado', color='orange')\n",
    "plt.xlabel('Seconds')\n",
    "plt.ylabel('Voltage')\n",
    "plt.legend() \n"
   ]
  },
  {
   "cell_type": "markdown",
   "metadata": {},
   "source": [
    "podemos observar que há perdas nos dados. Será testado diferentes frequencias de reamostragem para encontrar o melhor  trade-off entre a precisão dos dados e o custo de treinamento."
   ]
  },
  {
   "cell_type": "markdown",
   "metadata": {},
   "source": [
    "modelos que podem ser usados\n",
    "LSTM\n",
    "dnn\n",
    "knn\n",
    "svm\n"
   ]
  },
  {
   "cell_type": "code",
   "execution_count": 6,
   "metadata": {},
   "outputs": [],
   "source": [
    "def apply_fft(signal, sample_rate):\n",
    "    N = signal.shape[0]\n",
    "    T = 1 / sample_rate\n",
    "    yf = np.fft.fftn(signal)\n",
    "    xf = np.fft.fftfreq(N, T)[:N//2] # obtem somente frequencias positivas, pois o espectro é simétrico\n",
    "    spectrum = 2.0/N * np.abs(yf)[:N//2] # normalização\n",
    "    return spectrum, xf"
   ]
  },
  {
   "cell_type": "code",
   "execution_count": 13,
   "metadata": {},
   "outputs": [],
   "source": [
    "# def apply_rfft(data, sample_rate):\n",
    "#     # Calcular a Transformada de Fourier usando rfftn\n",
    "#     spectrum = np.fft.rfftn(data)\n",
    "    \n",
    "#     # Calcular as frequências correspondentes\n",
    "#     freqs = np.fft.rfftfreq(len(data), d=1/sample_rate)\n",
    "#     # freqs = [np.fft.fftfreq(n, d=1/sample_rate) for n in data.shape]\n",
    "#     return spectrum, freqs"
   ]
  },
  {
   "cell_type": "code",
   "execution_count": null,
   "metadata": {},
   "outputs": [],
   "source": [
    "normal_sample_spectrum, xf = apply_fft(normalSample, ORIGINAL_SAMPLE_RATE)   \n",
    "plt.plot(xf,normal_sample_spectrum)\n"
   ]
  },
  {
   "cell_type": "code",
   "execution_count": null,
   "metadata": {},
   "outputs": [],
   "source": [
    "normal_sample_spectrum_imbalance, xf_imbalance = apply_fft(imbalance6gSample, ORIGINAL_SAMPLE_RATE)   \n",
    "plt.plot(xf_imbalance, normal_sample_spectrum_imbalance)"
   ]
  },
  {
   "cell_type": "code",
   "execution_count": null,
   "metadata": {},
   "outputs": [],
   "source": [
    "normal_sample_spectrum_resampled, xf_resampled = apply_fft(normalSampleResampled, target_rate)   \n",
    "plt.plot(xf_resampled,normal_sample_spectrum_resampled)\n"
   ]
  },
  {
   "cell_type": "code",
   "execution_count": null,
   "metadata": {},
   "outputs": [],
   "source": [
    "imbalance6g_resample_spectrum, xf_imbalance6g_resampled = apply_fft(imbalance6gSampleResampled, target_rate)   \n",
    "plt.plot(xf_imbalance6g_resampled, imbalance6g_resample_spectrum)"
   ]
  },
  {
   "cell_type": "markdown",
   "metadata": {},
   "source": [
    "## processamento de dados\n",
    "aqui os dados serão tratados para uso nos modelos de machine learn"
   ]
  },
  {
   "cell_type": "code",
   "execution_count": 42,
   "metadata": {},
   "outputs": [],
   "source": [
    "from sklearn.model_selection import train_test_split\n",
    "\n",
    "def process_data(files_folder):\n",
    "    processed_data = []\n",
    "    data = dataReader(files_folder)\n",
    "    for i in range(len(data)):\n",
    "        data_resampled = resample(data[i], target_rate)\n",
    "        spectrum, xf = apply_fft(data_resampled, target_rate)\n",
    "        processed_data.append(spectrum)\n",
    "\n",
    "    return process_data\n"
   ]
  },
  {
   "cell_type": "code",
   "execution_count": 43,
   "metadata": {},
   "outputs": [],
   "source": [
    "data_normal = process_data( glob.glob('./data/normal/*.csv'))\n",
    "data_imbalance35g= process_data( glob.glob('./data/imbalance/35g/*.csv'))\n",
    "\n",
    "X = []\n",
    "X.append(data_normal)\n",
    "X.append(data_imbalance35g)\n",
    "\n",
    "y = []\n",
    "y.append(np.full(data_normal.shape[0], 'normal'))\n",
    "y.append(np.full(data_imbalance35g.shape[0], 'imbalance35g'))\n",
    "\n",
    "X_train, X_test, y_train, y_test  = train_test_split(X, y)"
   ]
  },
  {
   "cell_type": "code",
   "execution_count": 47,
   "metadata": {},
   "outputs": [],
   "source": [
    "from sklearn.model_selection import train_test_split\n",
    "train_data, test_data = train_test_split(data_normal)"
   ]
  }
 ],
 "metadata": {
  "kernelspec": {
   "display_name": "Python 3",
   "language": "python",
   "name": "python3"
  },
  "language_info": {
   "codemirror_mode": {
    "name": "ipython",
    "version": 3
   },
   "file_extension": ".py",
   "mimetype": "text/x-python",
   "name": "python",
   "nbconvert_exporter": "python",
   "pygments_lexer": "ipython3",
   "version": "3.11.2"
  }
 },
 "nbformat": 4,
 "nbformat_minor": 2
}
